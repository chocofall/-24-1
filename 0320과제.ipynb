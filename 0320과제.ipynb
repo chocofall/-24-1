{
  "nbformat": 4,
  "nbformat_minor": 0,
  "metadata": {
    "colab": {
      "provenance": [],
      "authorship_tag": "ABX9TyMfzhoFg2/Q/LKDrw+6kGey",
      "include_colab_link": true
    },
    "kernelspec": {
      "name": "python3",
      "display_name": "Python 3"
    },
    "language_info": {
      "name": "python"
    }
  },
  "cells": [
    {
      "cell_type": "markdown",
      "metadata": {
        "id": "view-in-github",
        "colab_type": "text"
      },
      "source": [
        "<a href=\"https://colab.research.google.com/github/chocofall/-24-1/blob/main/0320%EA%B3%BC%EC%A0%9C.ipynb\" target=\"_parent\"><img src=\"https://colab.research.google.com/assets/colab-badge.svg\" alt=\"Open In Colab\"/></a>"
      ]
    },
    {
      "cell_type": "code",
      "execution_count": 1,
      "metadata": {
        "colab": {
          "base_uri": "https://localhost:8080/"
        },
        "id": "ZAvlDLVhmD48",
        "outputId": "304f1607-1dd6-4308-aeb2-d6f4bbe899b2"
      },
      "outputs": [
        {
          "output_type": "stream",
          "name": "stdout",
          "text": [
            "<?xml version=\"1.0\" encoding=\"UTF-8\"?>\n",
            "<rdf:RDF xmlns:foaf=\"http://xmlns.com/foaf/0.1/\" xmlns:dct=\"http://purl.org/dc/terms/\" xmlns:rdf=\"http://www.w3.org/1999/02/22-rdf-syntax-ns#\" xmlns:dcat=\"http://www.w3.org/ns/dcat#\" xmlns:vcard=\"http://www.w3.org/2006/vcard/ns#\">\n",
            "    <dcat:Catalog>\n",
            "        <dcat:dataset>\n",
            "            <dcat:Dataset>\n",
            "                <dcat:contactPoint>\n",
            "                    <vcard:Individual>\n",
            "                        <vcard:hasTelephone rdf:resource=\"tel:0263112063\"/>\n",
            "                    </vcard:Individual>\n",
            "                </dcat:contactPoint>\n",
            "                <dct:description xml:lang=\"kr\">서울교통공사 1-8호선 30분 단위 평균 혼잡도로 30분간 지나는 열차들의 평균 혼잡도(정원대비 승차인원으로, 승차인과 좌석수가 일치할 경우를 혼잡도 34%로 산정) 입니다.(단위: %).  서울교통공사 혼잡도 데이터는 요일구분(평일, 토요일, 일요일), 호선, 역번호, 역명, 상하선구분, 30분단위 별 혼잡도 데이터로 구성되어 있습니다. (1년 단위 업데이트 자료 입니다.)</dct:description>\n",
            "                <dct:description xml:lang=\"en\">Seoul Transportation Corporation Lines 1-8 average congestion in 30-minute increments This is the average congestion of trains that pass in 30 minutes (the number of passengers compared to the capacity, and the congestion rate is calculated as 34% when the number of passengers and seats are the same). (Unit: %). Seoul Transportation Corporation&amp;#39;s congestion data consists of day of the week (weekday, Saturday, Sunday), line, station number, station name, upper and lower line classification, and congestion data by 30-minute increments. (This is an updated data on a yearly basis.)</dct:description>\n",
            "                <dct:title xml:lang=\"kr\">서울교통공사_지하철혼잡도정보</dct:title>\n",
            "                <dct:title xml:lang=\"en\">Seoul Transportation Corporation_Subway congestion information</dct:title>\n",
            "                <dct:issued rdf:datatype=\"http://www.w3.org/2001/XMLSchema#date\">2020-07-08 14:51:12.000</dct:issued>\n",
            "                <dct:modified rdf:datatype=\"http://www.w3.org/2001/XMLSchema#date\">2021-12-22 16:42:45.000</dct:modified>\n",
            "                <dct:publisher>\n",
            "                    <foaf:Organization>\n",
            "                        <foaf:name>서울교통공사</foaf:name>\n",
            "                    </foaf:Organization>\n",
            "                </dct:publisher>\n",
            "                <dcat:theme>교통물류</dcat:theme>\n",
            "                <dcat:keyword xml:lang=\"kr\">지하철평균혼잡도,열차혼잡도,서울도시철도혼잡도</dcat:keyword>\n",
            "                <dcat:keyword xml:lang=\"en\">Average subway congestion,train congestion,Seoul Urban Railway Congestion</dcat:keyword>\n",
            "                <dct:rights>이용허락범위 제한 없음</dct:rights>\n",
            "                <dct:accrualPeriodicity>연간</dct:accrualPeriodicity>\n",
            "                <dcat:distribution>\n",
            "                    <dcat:Distribution>\n",
            "                        <dct:accessURL ></dct:accessURL>\n",
            "                        <dcat:byteSize>340324</dcat:byteSize>\n",
            "                        <dcat:downloadURL>https://www.data.go.kr/cmm/cmm/fileDownload.do?fileDetailSn=1&amp;atchFileId=FILE_000000002409604&amp;dataNm=%EC%84%9C%EC%9A%B8%EA%B5%90%ED%86%B5%EA%B3%B5%EC%82%AC_%ED%98%BC%EC%9E%A1%EB%8F%84_20191231</dcat:downloadURL>\n",
            "                        <dcat:mediaType>텍스트</dcat:mediaType>\n",
            "                        <dcat:description></dcat:description>\n",
            "                        <dcat:format>csv</dcat:format>\n",
            "                        <dct:issued rdf:datatype=\"http://www.w3.org/2001/XMLSchema#date\">2021-07-26 10:29:48.000</dct:issued>\n",
            "                        <dcat:title>서울교통공사_지하철혼잡도정보_20191231</dcat:title>\n",
            "                    </dcat:Distribution>\n",
            "                </dcat:distribution>\n",
            "            </dcat:Dataset>\n",
            "        </dcat:dataset>\n",
            "\n",
            "        \n",
            "    </dcat:Catalog>\n",
            "</rdf:RDF>\n"
          ]
        }
      ],
      "source": [
        "import requests\n",
        "url= 'https://www.data.go.kr/dcat/metadata/15071311'\n",
        "r = requests.get(url)\n",
        "print(r.text)"
      ]
    }
  ]
}