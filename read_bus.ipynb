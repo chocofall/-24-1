{
  "nbformat": 4,
  "nbformat_minor": 0,
  "metadata": {
    "colab": {
      "provenance": [],
      "toc_visible": true,
      "authorship_tag": "ABX9TyNdKaATiJEVYxi75uwDqdUr",
      "include_colab_link": true
    },
    "kernelspec": {
      "name": "python3",
      "display_name": "Python 3"
    },
    "language_info": {
      "name": "python"
    }
  },
  "cells": [
    {
      "cell_type": "markdown",
      "metadata": {
        "id": "view-in-github",
        "colab_type": "text"
      },
      "source": [
        "<a href=\"https://colab.research.google.com/github/chocofall/-24-1/blob/main/read_bus.ipynb\" target=\"_parent\"><img src=\"https://colab.research.google.com/assets/colab-badge.svg\" alt=\"Open In Colab\"/></a>"
      ]
    },
    {
      "cell_type": "code",
      "source": [
        "import requests\n",
        "url= 'http://openapi.gbis.go.kr/ws/rest/buslocationservice?serviceKey=1234567890&routeId=204000070'\n",
        "r = requests.get(url)\n",
        "print(r.text)"
      ],
      "metadata": {
        "colab": {
          "base_uri": "https://localhost:8080/"
        },
        "id": "s74PigQDdx4K",
        "outputId": "4e34f0d5-06ea-446b-9c9b-47aa76e77eb0"
      },
      "execution_count": 5,
      "outputs": [
        {
          "output_type": "stream",
          "name": "stdout",
          "text": [
            "<?xml version=\"1.0\" encoding=\"UTF-8\" standalone=\"yes\"?><response><comMsgHeader/><msgHeader><queryTime>2024-03-17 21:51:49.072</queryTime><resultCode>0</resultCode><resultMessage>정상적으로 처리되었습니다.</resultMessage></msgHeader><msgBody><busLocationList><endBus>0</endBus><lowPlate>0</lowPlate><plateNo>경기70아8795</plateNo><plateType>3</plateType><remainSeatCnt>36</remainSeatCnt><routeId>204000070</routeId><stationId>277104177</stationId><stationSeq>25</stationSeq></busLocationList><busLocationList><endBus>0</endBus><lowPlate>0</lowPlate><plateNo>경기70아8864</plateNo><plateType>3</plateType><remainSeatCnt>15</remainSeatCnt><routeId>204000070</routeId><stationId>277103440</stationId><stationSeq>47</stationSeq></busLocationList><busLocationList><endBus>0</endBus><lowPlate>0</lowPlate><plateNo>경기70아7333</plateNo><plateType>3</plateType><remainSeatCnt>40</remainSeatCnt><routeId>204000070</routeId><stationId>101000005</stationId><stationSeq>36</stationSeq></busLocationList><busLocationList><endBus>0</endBus><lowPlate>0</lowPlate><plateNo>경기78아1176</plateNo><plateType>3</plateType><remainSeatCnt>-1</remainSeatCnt><routeId>204000070</routeId><stationId>206000657</stationId><stationSeq>68</stationSeq></busLocationList><busLocationList><endBus>0</endBus><lowPlate>0</lowPlate><plateNo>경기70아8779</plateNo><plateType>3</plateType><remainSeatCnt>45</remainSeatCnt><routeId>204000070</routeId><stationId>206000009</stationId><stationSeq>2</stationSeq></busLocationList></msgBody></response>\n"
          ]
        }
      ]
    }
  ]
}