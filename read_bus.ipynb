{
  "nbformat": 4,
  "nbformat_minor": 0,
  "metadata": {
    "colab": {
      "provenance": [],
      "authorship_tag": "ABX9TyMnNhyXdG6N2f6TAOaeffi6",
      "include_colab_link": true
    },
    "kernelspec": {
      "name": "python3",
      "display_name": "Python 3"
    },
    "language_info": {
      "name": "python"
    }
  },
  "cells": [
    {
      "cell_type": "markdown",
      "metadata": {
        "id": "view-in-github",
        "colab_type": "text"
      },
      "source": [
        "<a href=\"https://colab.research.google.com/github/chocofall/-24-1/blob/main/read_bus.ipynb\" target=\"_parent\"><img src=\"https://colab.research.google.com/assets/colab-badge.svg\" alt=\"Open In Colab\"/></a>"
      ]
    },
    {
      "cell_type": "code",
      "execution_count": 4,
      "metadata": {
        "colab": {
          "base_uri": "https://localhost:8080/"
        },
        "id": "KqV-Jhe_LzQL",
        "outputId": "0d6042f8-517b-4e79-86d3-5a3d1f5ff2c3"
      },
      "outputs": [
        {
          "output_type": "stream",
          "name": "stdout",
          "text": [
            "<?xml version=\"1.0\" encoding=\"UTF-8\" standalone=\"yes\"?><response><comMsgHeader/><msgHeader><queryTime>2024-03-17 20:55:13.175</queryTime><resultCode>0</resultCode><resultMessage>정상적으로 처리되었습니다.</resultMessage></msgHeader><msgBody><busLocationList><endBus>0</endBus><lowPlate>1</lowPlate><plateNo>경기70바1690</plateNo><plateType>3</plateType><remainSeatCnt>-1</remainSeatCnt><routeId>200000085</routeId><stationId>200000095</stationId><stationSeq>13</stationSeq></busLocationList><busLocationList><endBus>0</endBus><lowPlate>1</lowPlate><plateNo>경기70바1785</plateNo><plateType>3</plateType><remainSeatCnt>-1</remainSeatCnt><routeId>200000085</routeId><stationId>233001218</stationId><stationSeq>57</stationSeq></busLocationList><busLocationList><endBus>0</endBus><lowPlate>1</lowPlate><plateNo>경기70바1650</plateNo><plateType>3</plateType><remainSeatCnt>-1</remainSeatCnt><routeId>200000085</routeId><stationId>233000102</stationId><stationSeq>82</stationSeq></busLocationList><busLocationList><endBus>0</endBus><lowPlate>1</lowPlate><plateNo>경기70바1699</plateNo><plateType>3</plateType><remainSeatCnt>-1</remainSeatCnt><routeId>200000085</routeId><stationId>200000094</stationId><stationSeq>129</stationSeq></busLocationList><busLocationList><endBus>0</endBus><lowPlate>1</lowPlate><plateNo>경기70바2409</plateNo><plateType>3</plateType><remainSeatCnt>-1</remainSeatCnt><routeId>200000085</routeId><stationId>203000114</stationId><stationSeq>99</stationSeq></busLocationList><busLocationList><endBus>0</endBus><lowPlate>1</lowPlate><plateNo>경기70바1675</plateNo><plateType>3</plateType><remainSeatCnt>-1</remainSeatCnt><routeId>200000085</routeId><stationId>200000111</stationId><stationSeq>121</stationSeq></busLocationList><busLocationList><endBus>0</endBus><lowPlate>1</lowPlate><plateNo>경기70바1687</plateNo><plateType>3</plateType><remainSeatCnt>-1</remainSeatCnt><routeId>200000085</routeId><stationId>203000055</stationId><stationSeq>36</stationSeq></busLocationList></msgBody></response>\n"
          ]
        }
      ],
      "source": [
        "import requests\n",
        "url= 'http://openapi.gbis.go.kr/ws/rest/buslocationservice?serviceKey=1234567890&routeId=200000085'\n",
        "r = requests.get(url)\n",
        "print(r.text)"
      ]
    }
  ]
}