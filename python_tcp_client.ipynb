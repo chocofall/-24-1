{
  "nbformat": 4,
  "nbformat_minor": 0,
  "metadata": {
    "colab": {
      "provenance": [],
      "authorship_tag": "ABX9TyObU/BXDRs3KumqvRQqUE9Z",
      "include_colab_link": true
    },
    "kernelspec": {
      "name": "python3",
      "display_name": "Python 3"
    },
    "language_info": {
      "name": "python"
    }
  },
  "cells": [
    {
      "cell_type": "markdown",
      "metadata": {
        "id": "view-in-github",
        "colab_type": "text"
      },
      "source": [
        "<a href=\"https://colab.research.google.com/github/chocofall/-24-1/blob/main/python_tcp_client.ipynb\" target=\"_parent\"><img src=\"https://colab.research.google.com/assets/colab-badge.svg\" alt=\"Open In Colab\"/></a>"
      ]
    },
    {
      "cell_type": "code",
      "execution_count": 6,
      "metadata": {
        "id": "CLPIqnkeWX2_",
        "colab": {
          "base_uri": "https://localhost:8080/"
        },
        "outputId": "5dd0135c-fe01-4ed2-eb2b-61a550a75c36"
      },
      "outputs": [
        {
          "output_type": "stream",
          "name": "stdout",
          "text": [
            "Received HTTP/1.1 200 OK\r\n",
            "Date: Thu, 28 Mar 2024 04:44:08 GMT\r\n",
            "Expires: -1\r\n",
            "Cache-Control: private, max-age=0\r\n",
            "Content-Type: text/html; charset=ISO-8859-1\r\n",
            "Content-Security-Policy-Report-Only: object-src 'none';base-uri 'self';script-src 'nonce-KvDLyEqOyZLM_oz9lkU7kA' 'strict-dynamic' 'report-sample' 'unsafe-eval' 'unsafe-inline' https: http:;report-uri https://csp.withgoogle.com/csp/gws/other-hp\r\n",
            "P3P: CP=\"This is not a P3P policy! See g.co/p3phelp for more info.\"\r\n",
            "Server: gws\r\n",
            "X-XSS-Protection: 0\r\n",
            "X-Frame-Options: SAMEORIGIN\r\n",
            "Set-Cookie: 1P_JAR=2024-03-28-04; expires=Sat, 27-Apr-2024 04:44:08 GMT; path=/; domain=.google.com; Secure\r\n",
            "Set-Cookie: AEC=Ae3NU9O8RPxozamcl0qcaXgtQ9GEzJ5H1NTO0IatBN8EiXilPAZm7RgbEg; expires=Tue, 24-Sep-2024 04:44:08 GMT; path=/; domain=.google.com; Secure; HttpOnly; SameSite=lax\r\n",
            "Set-Cookie: NID=512=Z9tOhwjIjegk0XLxZHltzzdZ3tNAZPuP6kmGKe2MZi2tz0UsbExvBgQAiRP25dDxxDGjY0L40dpwpDZN8HXuozQpIDIZB6tuc5O3DUtIHOxsQcnGLxGyPKVZ_KrPxPcggasGp1G__xl06HTIdTX0j8ie3I7sB3LY_nA_aePjvaU; expires=Fri, 27-Sep-202\n"
          ]
        }
      ],
      "source": [
        "import socket\n",
        "\n",
        "HOST = \"youtube.com\"\n",
        "PORT = 80\n",
        "\n",
        "with socket.socket(socket.AF_INET, socket.SOCK_STREAM) as s:\n",
        "    s.connect((HOST, PORT))\n",
        "    s.sendall(b\"GET / HTTP/1.2\\n\\n\")\n",
        "    data = s.recv(1024)\n",
        "\n",
        "print(f\"Received {data.decode('utf-8')}\")"
      ]
    },
    {
      "cell_type": "code",
      "source": [],
      "metadata": {
        "id": "wD-7fUzLX3DF"
      },
      "execution_count": null,
      "outputs": []
    }
  ]
}